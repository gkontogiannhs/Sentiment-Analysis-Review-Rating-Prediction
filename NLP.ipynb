{
 "cells": [
  {
   "cell_type": "code",
   "execution_count": 1,
   "id": "99eece9d",
   "metadata": {},
   "outputs": [
    {
     "name": "stdout",
     "output_type": "stream",
     "text": [
      "Once deleted, variables cannot be recovered. Proceed (y/[n])? y\n"
     ]
    }
   ],
   "source": [
    "%reset"
   ]
  },
  {
   "cell_type": "code",
   "execution_count": 2,
   "id": "9ddd60bb",
   "metadata": {},
   "outputs": [],
   "source": [
    "from matplotlib import pyplot as plt\n",
    "import seaborn as sns; sns.set_theme()\n",
    "from os.path import expanduser\n",
    "from pandas import read_csv\n",
    "from pandas import DataFrame\n",
    "from gensim.utils import simple_preprocess\n",
    "from gensim.models import Word2Vec\n",
    "from numpy import array, add, divide\n",
    "from sklearn.ensemble import RandomForestClassifier\n",
    "from sklearn.model_selection import train_test_split\n",
    "from sklearn.metrics import confusion_matrix\n",
    "from nltk.corpus import stopwords\n",
    "from sklearn.metrics import precision_score, recall_score, f1_score, accuracy_score\n",
    "from imblearn.over_sampling import RandomOverSampler\n",
    "from sklearn.preprocessing import MinMaxScaler"
   ]
  },
  {
   "cell_type": "markdown",
   "id": "2e860209",
   "metadata": {},
   "source": [
    "## Import data"
   ]
  },
  {
   "cell_type": "code",
   "execution_count": 3,
   "id": "551a52f7",
   "metadata": {},
   "outputs": [],
   "source": [
    "my_path = 'dataset/amazon.csv'"
   ]
  },
  {
   "cell_type": "code",
   "execution_count": 4,
   "id": "08114e8c",
   "metadata": {},
   "outputs": [
    {
     "data": {
      "text/html": [
       "<div>\n",
       "<style scoped>\n",
       "    .dataframe tbody tr th:only-of-type {\n",
       "        vertical-align: middle;\n",
       "    }\n",
       "\n",
       "    .dataframe tbody tr th {\n",
       "        vertical-align: top;\n",
       "    }\n",
       "\n",
       "    .dataframe thead th {\n",
       "        text-align: right;\n",
       "    }\n",
       "</style>\n",
       "<table border=\"1\" class=\"dataframe\">\n",
       "  <thead>\n",
       "    <tr style=\"text-align: right;\">\n",
       "      <th></th>\n",
       "      <th>text_review</th>\n",
       "      <th>rating</th>\n",
       "    </tr>\n",
       "  </thead>\n",
       "  <tbody>\n",
       "    <tr>\n",
       "      <th>0</th>\n",
       "      <td>The description and photo on this product need...</td>\n",
       "      <td>3</td>\n",
       "    </tr>\n",
       "    <tr>\n",
       "      <th>1</th>\n",
       "      <td>This was a great book!!!! It is well thought t...</td>\n",
       "      <td>5</td>\n",
       "    </tr>\n",
       "    <tr>\n",
       "      <th>2</th>\n",
       "      <td>I am a first year teacher, teaching 5th grade....</td>\n",
       "      <td>5</td>\n",
       "    </tr>\n",
       "    <tr>\n",
       "      <th>3</th>\n",
       "      <td>I got the book at my bookfair at school lookin...</td>\n",
       "      <td>5</td>\n",
       "    </tr>\n",
       "    <tr>\n",
       "      <th>4</th>\n",
       "      <td>Hi! I'm Martine Redman and I created this puzz...</td>\n",
       "      <td>5</td>\n",
       "    </tr>\n",
       "  </tbody>\n",
       "</table>\n",
       "</div>"
      ],
      "text/plain": [
       "                                         text_review  rating\n",
       "0  The description and photo on this product need...       3\n",
       "1  This was a great book!!!! It is well thought t...       5\n",
       "2  I am a first year teacher, teaching 5th grade....       5\n",
       "3  I got the book at my bookfair at school lookin...       5\n",
       "4  Hi! I'm Martine Redman and I created this puzz...       5"
      ]
     },
     "execution_count": 4,
     "metadata": {},
     "output_type": "execute_result"
    }
   ],
   "source": [
    "reviews = read_csv(my_path)\n",
    "reviews.columns = ['text_review', 'rating']\n",
    "reviews.head()"
   ]
  },
  {
   "cell_type": "markdown",
   "id": "96ec8f6c",
   "metadata": {},
   "source": [
    "## Preproccessing"
   ]
  },
  {
   "cell_type": "markdown",
   "id": "2a99e48e",
   "metadata": {},
   "source": [
    "### Puncuation, Noise Removal, Lowercasing and Normalization"
   ]
  },
  {
   "cell_type": "code",
   "execution_count": 5,
   "id": "fd4af17e",
   "metadata": {},
   "outputs": [
    {
     "data": {
      "text/html": [
       "<div>\n",
       "<style scoped>\n",
       "    .dataframe tbody tr th:only-of-type {\n",
       "        vertical-align: middle;\n",
       "    }\n",
       "\n",
       "    .dataframe tbody tr th {\n",
       "        vertical-align: top;\n",
       "    }\n",
       "\n",
       "    .dataframe thead th {\n",
       "        text-align: right;\n",
       "    }\n",
       "</style>\n",
       "<table border=\"1\" class=\"dataframe\">\n",
       "  <thead>\n",
       "    <tr style=\"text-align: right;\">\n",
       "      <th></th>\n",
       "      <th>text_review</th>\n",
       "      <th>rating</th>\n",
       "    </tr>\n",
       "  </thead>\n",
       "  <tbody>\n",
       "    <tr>\n",
       "      <th>0</th>\n",
       "      <td>[the, description, and, photo, on, this, produ...</td>\n",
       "      <td>3</td>\n",
       "    </tr>\n",
       "    <tr>\n",
       "      <th>1</th>\n",
       "      <td>[this, was, great, book, it, is, well, thought...</td>\n",
       "      <td>5</td>\n",
       "    </tr>\n",
       "    <tr>\n",
       "      <th>2</th>\n",
       "      <td>[am, first, year, teacher, teaching, th, grade...</td>\n",
       "      <td>5</td>\n",
       "    </tr>\n",
       "    <tr>\n",
       "      <th>3</th>\n",
       "      <td>[got, the, book, at, my, bookfair, at, school,...</td>\n",
       "      <td>5</td>\n",
       "    </tr>\n",
       "    <tr>\n",
       "      <th>4</th>\n",
       "      <td>[hi, martine, redman, and, created, this, puzz...</td>\n",
       "      <td>5</td>\n",
       "    </tr>\n",
       "  </tbody>\n",
       "</table>\n",
       "</div>"
      ],
      "text/plain": [
       "                                         text_review  rating\n",
       "0  [the, description, and, photo, on, this, produ...       3\n",
       "1  [this, was, great, book, it, is, well, thought...       5\n",
       "2  [am, first, year, teacher, teaching, th, grade...       5\n",
       "3  [got, the, book, at, my, bookfair, at, school,...       5\n",
       "4  [hi, martine, redman, and, created, this, puzz...       5"
      ]
     },
     "execution_count": 5,
     "metadata": {},
     "output_type": "execute_result"
    }
   ],
   "source": [
    "reviews['text_review'] = reviews['text_review'].map(simple_preprocess)\n",
    "reviews.head()"
   ]
  },
  {
   "cell_type": "markdown",
   "id": "f448a6f8",
   "metadata": {},
   "source": [
    "### Stop words removal "
   ]
  },
  {
   "cell_type": "code",
   "execution_count": 6,
   "id": "88a427b7",
   "metadata": {},
   "outputs": [
    {
     "data": {
      "text/html": [
       "<div>\n",
       "<style scoped>\n",
       "    .dataframe tbody tr th:only-of-type {\n",
       "        vertical-align: middle;\n",
       "    }\n",
       "\n",
       "    .dataframe tbody tr th {\n",
       "        vertical-align: top;\n",
       "    }\n",
       "\n",
       "    .dataframe thead th {\n",
       "        text-align: right;\n",
       "    }\n",
       "</style>\n",
       "<table border=\"1\" class=\"dataframe\">\n",
       "  <thead>\n",
       "    <tr style=\"text-align: right;\">\n",
       "      <th></th>\n",
       "      <th>text_review</th>\n",
       "      <th>rating</th>\n",
       "    </tr>\n",
       "  </thead>\n",
       "  <tbody>\n",
       "    <tr>\n",
       "      <th>0</th>\n",
       "      <td>[description, photo, product, needs, changed, ...</td>\n",
       "      <td>3</td>\n",
       "    </tr>\n",
       "    <tr>\n",
       "      <th>1</th>\n",
       "      <td>[great, book, well, thought, easily, imagine, ...</td>\n",
       "      <td>5</td>\n",
       "    </tr>\n",
       "    <tr>\n",
       "      <th>2</th>\n",
       "      <td>[first, year, teacher, teaching, th, grade, sp...</td>\n",
       "      <td>5</td>\n",
       "    </tr>\n",
       "    <tr>\n",
       "      <th>3</th>\n",
       "      <td>[got, book, bookfair, school, looking, somethi...</td>\n",
       "      <td>5</td>\n",
       "    </tr>\n",
       "    <tr>\n",
       "      <th>4</th>\n",
       "      <td>[hi, martine, redman, created, puzzle, briarpa...</td>\n",
       "      <td>5</td>\n",
       "    </tr>\n",
       "  </tbody>\n",
       "</table>\n",
       "</div>"
      ],
      "text/plain": [
       "                                         text_review  rating\n",
       "0  [description, photo, product, needs, changed, ...       3\n",
       "1  [great, book, well, thought, easily, imagine, ...       5\n",
       "2  [first, year, teacher, teaching, th, grade, sp...       5\n",
       "3  [got, book, bookfair, school, looking, somethi...       5\n",
       "4  [hi, martine, redman, created, puzzle, briarpa...       5"
      ]
     },
     "execution_count": 6,
     "metadata": {},
     "output_type": "execute_result"
    }
   ],
   "source": [
    "def remove_stopwords(sentence_as_list):\n",
    "    stop_words = set(stopwords.words('english'))\n",
    "    return [word for word in sentence_as_list if word not in stop_words]\n",
    "            \n",
    "            \n",
    "reviews['text_review'] = reviews['text_review'].map(remove_stopwords)\n",
    "reviews.head()"
   ]
  },
  {
   "cell_type": "code",
   "execution_count": 7,
   "id": "188aa62d",
   "metadata": {},
   "outputs": [],
   "source": [
    "# remove blanks\n",
    "reviews = reviews[reviews['text_review'].map(len) > 0]"
   ]
  },
  {
   "cell_type": "code",
   "execution_count": 8,
   "id": "020c691a",
   "metadata": {},
   "outputs": [],
   "source": [
    "text_reviews = reviews['text_review'].values\n",
    "Y = reviews['rating'].values"
   ]
  },
  {
   "cell_type": "markdown",
   "id": "77808d1b",
   "metadata": {},
   "source": [
    "## Word Embeddings model creation - Word2Vec"
   ]
  },
  {
   "cell_type": "code",
   "execution_count": 9,
   "id": "128e6257",
   "metadata": {},
   "outputs": [],
   "source": [
    "model = Word2Vec(\n",
    "    window=10,\n",
    "    min_count=1,\n",
    "    workers=4\n",
    ")\n",
    "model.build_vocab(text_reviews, progress_per=1000)"
   ]
  },
  {
   "cell_type": "code",
   "execution_count": 10,
   "id": "f591a869",
   "metadata": {},
   "outputs": [
    {
     "data": {
      "text/plain": [
       "(8891552, 9327490)"
      ]
     },
     "execution_count": 10,
     "metadata": {},
     "output_type": "execute_result"
    }
   ],
   "source": [
    "model.train(text_reviews, total_examples=model.corpus_count, epochs=model.epochs)"
   ]
  },
  {
   "cell_type": "code",
   "execution_count": 11,
   "id": "733af4cd",
   "metadata": {},
   "outputs": [],
   "source": [
    "model.save('./amazon_reviews_trained_word2vec')"
   ]
  },
  {
   "cell_type": "code",
   "execution_count": 12,
   "id": "6c2a73bd",
   "metadata": {},
   "outputs": [
    {
     "data": {
      "text/plain": [
       "[('interactv', 0.8299218416213989),\n",
       " ('phone', 0.8208297491073608),\n",
       " ('video', 0.8087035417556763),\n",
       " ('dvd', 0.7969558238983154),\n",
       " ('tv', 0.773113489151001),\n",
       " ('cd', 0.7661594748497009),\n",
       " ('click', 0.7653779983520508),\n",
       " ('joystick', 0.7540054321289062),\n",
       " ('desk', 0.753466784954071),\n",
       " ('camera', 0.7507612109184265)]"
      ]
     },
     "execution_count": 12,
     "metadata": {},
     "output_type": "execute_result"
    }
   ],
   "source": [
    "model.wv.most_similar('computer')"
   ]
  },
  {
   "cell_type": "code",
   "execution_count": 13,
   "id": "e5cf7433",
   "metadata": {},
   "outputs": [
    {
     "data": {
      "text/plain": [
       "0.65334404"
      ]
     },
     "execution_count": 13,
     "metadata": {},
     "output_type": "execute_result"
    }
   ],
   "source": [
    "model.wv.similarity(w1='python', w2='language')"
   ]
  },
  {
   "cell_type": "markdown",
   "id": "ffc64923",
   "metadata": {},
   "source": [
    "### Pair words to embeddings"
   ]
  },
  {
   "cell_type": "code",
   "execution_count": 14,
   "id": "9b2e7489",
   "metadata": {},
   "outputs": [],
   "source": [
    "word_vec = dict({})\n",
    "for key in model.wv.index_to_key:\n",
    "    word_vec[key] = model.wv[key]"
   ]
  },
  {
   "cell_type": "markdown",
   "id": "f8ebf006",
   "metadata": {},
   "source": [
    "### Create document vectors"
   ]
  },
  {
   "cell_type": "code",
   "execution_count": 15,
   "id": "2bf28c96",
   "metadata": {},
   "outputs": [],
   "source": [
    "docVec = []\n",
    "# for every review\n",
    "for i in range(len(text_reviews)):\n",
    "    sentVect = array(100)\n",
    "    # for each word in review\n",
    "    for j in range(len(text_reviews[i])):\n",
    "        word = text_reviews[i][j]\n",
    "        if word in word_vec.keys():\n",
    "            # vector addition of the words in the text\n",
    "            sentVect = add(sentVect, word_vec[word])\n",
    "            \n",
    "    # normalize vector\n",
    "    sentVect = divide(sentVect, len(text_reviews[i]))\n",
    "    docVec.append(sentVect)"
   ]
  },
  {
   "cell_type": "code",
   "execution_count": 16,
   "id": "3a835f00",
   "metadata": {},
   "outputs": [
    {
     "data": {
      "text/html": [
       "<div>\n",
       "<style scoped>\n",
       "    .dataframe tbody tr th:only-of-type {\n",
       "        vertical-align: middle;\n",
       "    }\n",
       "\n",
       "    .dataframe tbody tr th {\n",
       "        vertical-align: top;\n",
       "    }\n",
       "\n",
       "    .dataframe thead th {\n",
       "        text-align: right;\n",
       "    }\n",
       "</style>\n",
       "<table border=\"1\" class=\"dataframe\">\n",
       "  <thead>\n",
       "    <tr style=\"text-align: right;\">\n",
       "      <th></th>\n",
       "      <th>0</th>\n",
       "      <th>1</th>\n",
       "      <th>2</th>\n",
       "      <th>3</th>\n",
       "      <th>4</th>\n",
       "      <th>5</th>\n",
       "      <th>6</th>\n",
       "      <th>7</th>\n",
       "      <th>8</th>\n",
       "      <th>9</th>\n",
       "      <th>...</th>\n",
       "      <th>91</th>\n",
       "      <th>92</th>\n",
       "      <th>93</th>\n",
       "      <th>94</th>\n",
       "      <th>95</th>\n",
       "      <th>96</th>\n",
       "      <th>97</th>\n",
       "      <th>98</th>\n",
       "      <th>99</th>\n",
       "      <th>rating</th>\n",
       "    </tr>\n",
       "  </thead>\n",
       "  <tbody>\n",
       "    <tr>\n",
       "      <th>0</th>\n",
       "      <td>9.026176</td>\n",
       "      <td>9.651213</td>\n",
       "      <td>8.763224</td>\n",
       "      <td>8.771465</td>\n",
       "      <td>9.281157</td>\n",
       "      <td>8.919657</td>\n",
       "      <td>8.686464</td>\n",
       "      <td>10.676805</td>\n",
       "      <td>8.982865</td>\n",
       "      <td>9.419347</td>\n",
       "      <td>...</td>\n",
       "      <td>8.605595</td>\n",
       "      <td>8.712249</td>\n",
       "      <td>9.203014</td>\n",
       "      <td>9.233106</td>\n",
       "      <td>9.107856</td>\n",
       "      <td>9.010648</td>\n",
       "      <td>8.602348</td>\n",
       "      <td>9.027303</td>\n",
       "      <td>9.310956</td>\n",
       "      <td>3</td>\n",
       "    </tr>\n",
       "    <tr>\n",
       "      <th>1</th>\n",
       "      <td>4.145932</td>\n",
       "      <td>4.401742</td>\n",
       "      <td>3.253907</td>\n",
       "      <td>4.501170</td>\n",
       "      <td>3.576679</td>\n",
       "      <td>3.604283</td>\n",
       "      <td>3.985062</td>\n",
       "      <td>4.195835</td>\n",
       "      <td>3.670390</td>\n",
       "      <td>3.686462</td>\n",
       "      <td>...</td>\n",
       "      <td>4.189379</td>\n",
       "      <td>3.047664</td>\n",
       "      <td>4.004392</td>\n",
       "      <td>4.318831</td>\n",
       "      <td>3.746527</td>\n",
       "      <td>4.458848</td>\n",
       "      <td>3.800182</td>\n",
       "      <td>3.914139</td>\n",
       "      <td>3.682969</td>\n",
       "      <td>5</td>\n",
       "    </tr>\n",
       "    <tr>\n",
       "      <th>2</th>\n",
       "      <td>2.119791</td>\n",
       "      <td>2.435576</td>\n",
       "      <td>1.981751</td>\n",
       "      <td>2.152745</td>\n",
       "      <td>1.788873</td>\n",
       "      <td>1.687862</td>\n",
       "      <td>2.125362</td>\n",
       "      <td>2.287931</td>\n",
       "      <td>1.378933</td>\n",
       "      <td>1.601773</td>\n",
       "      <td>...</td>\n",
       "      <td>2.079860</td>\n",
       "      <td>1.454820</td>\n",
       "      <td>1.933541</td>\n",
       "      <td>1.985494</td>\n",
       "      <td>1.918369</td>\n",
       "      <td>2.086721</td>\n",
       "      <td>1.782287</td>\n",
       "      <td>1.216375</td>\n",
       "      <td>1.748235</td>\n",
       "      <td>5</td>\n",
       "    </tr>\n",
       "    <tr>\n",
       "      <th>3</th>\n",
       "      <td>2.636468</td>\n",
       "      <td>2.609632</td>\n",
       "      <td>2.160556</td>\n",
       "      <td>2.674132</td>\n",
       "      <td>2.053840</td>\n",
       "      <td>2.432150</td>\n",
       "      <td>2.559368</td>\n",
       "      <td>2.677409</td>\n",
       "      <td>1.605732</td>\n",
       "      <td>2.164188</td>\n",
       "      <td>...</td>\n",
       "      <td>2.244016</td>\n",
       "      <td>2.036463</td>\n",
       "      <td>2.397319</td>\n",
       "      <td>2.261201</td>\n",
       "      <td>1.996912</td>\n",
       "      <td>2.460735</td>\n",
       "      <td>1.850936</td>\n",
       "      <td>1.952041</td>\n",
       "      <td>1.853505</td>\n",
       "      <td>5</td>\n",
       "    </tr>\n",
       "    <tr>\n",
       "      <th>4</th>\n",
       "      <td>1.477969</td>\n",
       "      <td>2.006236</td>\n",
       "      <td>1.190415</td>\n",
       "      <td>1.771404</td>\n",
       "      <td>1.415149</td>\n",
       "      <td>1.569226</td>\n",
       "      <td>1.630453</td>\n",
       "      <td>1.907989</td>\n",
       "      <td>1.457947</td>\n",
       "      <td>1.441420</td>\n",
       "      <td>...</td>\n",
       "      <td>1.645538</td>\n",
       "      <td>0.960407</td>\n",
       "      <td>1.380754</td>\n",
       "      <td>1.512646</td>\n",
       "      <td>1.540808</td>\n",
       "      <td>1.916054</td>\n",
       "      <td>1.498982</td>\n",
       "      <td>1.207430</td>\n",
       "      <td>1.558502</td>\n",
       "      <td>5</td>\n",
       "    </tr>\n",
       "  </tbody>\n",
       "</table>\n",
       "<p>5 rows × 101 columns</p>\n",
       "</div>"
      ],
      "text/plain": [
       "          0         1         2         3         4         5         6  \\\n",
       "0  9.026176  9.651213  8.763224  8.771465  9.281157  8.919657  8.686464   \n",
       "1  4.145932  4.401742  3.253907  4.501170  3.576679  3.604283  3.985062   \n",
       "2  2.119791  2.435576  1.981751  2.152745  1.788873  1.687862  2.125362   \n",
       "3  2.636468  2.609632  2.160556  2.674132  2.053840  2.432150  2.559368   \n",
       "4  1.477969  2.006236  1.190415  1.771404  1.415149  1.569226  1.630453   \n",
       "\n",
       "           7         8         9  ...        91        92        93        94  \\\n",
       "0  10.676805  8.982865  9.419347  ...  8.605595  8.712249  9.203014  9.233106   \n",
       "1   4.195835  3.670390  3.686462  ...  4.189379  3.047664  4.004392  4.318831   \n",
       "2   2.287931  1.378933  1.601773  ...  2.079860  1.454820  1.933541  1.985494   \n",
       "3   2.677409  1.605732  2.164188  ...  2.244016  2.036463  2.397319  2.261201   \n",
       "4   1.907989  1.457947  1.441420  ...  1.645538  0.960407  1.380754  1.512646   \n",
       "\n",
       "         95        96        97        98        99  rating  \n",
       "0  9.107856  9.010648  8.602348  9.027303  9.310956       3  \n",
       "1  3.746527  4.458848  3.800182  3.914139  3.682969       5  \n",
       "2  1.918369  2.086721  1.782287  1.216375  1.748235       5  \n",
       "3  1.996912  2.460735  1.850936  1.952041  1.853505       5  \n",
       "4  1.540808  1.916054  1.498982  1.207430  1.558502       5  \n",
       "\n",
       "[5 rows x 101 columns]"
      ]
     },
     "execution_count": 16,
     "metadata": {},
     "output_type": "execute_result"
    }
   ],
   "source": [
    "doc_vectors = DataFrame(docVec)\n",
    "doc_vectors['rating'] = Y\n",
    "doc_vectors.head()"
   ]
  },
  {
   "cell_type": "markdown",
   "id": "c37af329",
   "metadata": {},
   "source": [
    "### Class Sample distribution"
   ]
  },
  {
   "cell_type": "code",
   "execution_count": 17,
   "id": "68c63727",
   "metadata": {},
   "outputs": [
    {
     "data": {
      "image/png": "[encoded data removed]",
      "text/plain": [
       "<Figure size 432x288 with 1 Axes>"
      ]
     },
     "metadata": {},
     "output_type": "display_data"
    }
   ],
   "source": [
    "plt.hist(doc_vectors['rating'])\n",
    "plt.xlabel('rating')\n",
    "plt.ylabel('No. of reviews')\n",
    "plt.show()"
   ]
  },
  {
   "cell_type": "markdown",
   "id": "ac55f6b1",
   "metadata": {},
   "source": [
    "### Balance class sample weight"
   ]
  },
  {
   "cell_type": "code",
   "execution_count": 18,
   "id": "34db89ea",
   "metadata": {},
   "outputs": [
    {
     "data": {
      "text/plain": [
       "3    29772\n",
       "5    29772\n",
       "4    29772\n",
       "1    29772\n",
       "2    29772\n",
       "Name: rating, dtype: int64"
      ]
     },
     "execution_count": 18,
     "metadata": {},
     "output_type": "execute_result"
    }
   ],
   "source": [
    "# data are biased on '5' rating, so we generate new samples\n",
    "# by randomly sampling with replacement of the currently available samples \n",
    "ros = RandomOverSampler(random_state=42)\n",
    "x_ros, y_ros = ros.fit_resample(doc_vectors.drop(['rating'], axis=1), doc_vectors['rating'])\n",
    "y_ros.value_counts()"
   ]
  },
  {
   "cell_type": "markdown",
   "id": "466a68c2",
   "metadata": {},
   "source": [
    "### Split to train - test"
   ]
  },
  {
   "cell_type": "code",
   "execution_count": 19,
   "id": "c09dba99",
   "metadata": {},
   "outputs": [],
   "source": [
    "X_train, X_test, y_train, y_test = train_test_split(x_ros, y_ros, test_size=0.2)"
   ]
  },
  {
   "cell_type": "markdown",
   "id": "f0cf71f9",
   "metadata": {},
   "source": [
    "### Apply RandomForest Classifier"
   ]
  },
  {
   "cell_type": "code",
   "execution_count": 20,
   "id": "68462df5",
   "metadata": {},
   "outputs": [
    {
     "data": {
      "text/html": [
       "<style>#sk-container-id-1 {color: black;background-color: white;}#sk-container-id-1 pre{padding: 0;}#sk-container-id-1 div.sk-toggleable {background-color: white;}#sk-container-id-1 label.sk-toggleable__label {cursor: pointer;display: block;width: 100%;margin-bottom: 0;padding: 0.3em;box-sizing: border-box;text-align: center;}#sk-container-id-1 label.sk-toggleable__label-arrow:before {content: \"▸\";float: left;margin-right: 0.25em;color: #696969;}#sk-container-id-1 label.sk-toggleable__label-arrow:hover:before {color: black;}#sk-container-id-1 div.sk-estimator:hover label.sk-toggleable__label-arrow:before {color: black;}#sk-container-id-1 div.sk-toggleable__content {max-height: 0;max-width: 0;overflow: hidden;text-align: left;background-color: #f0f8ff;}#sk-container-id-1 div.sk-toggleable__content pre {margin: 0.2em;color: black;border-radius: 0.25em;background-color: #f0f8ff;}#sk-container-id-1 input.sk-toggleable__control:checked~div.sk-toggleable__content {max-height: 200px;max-width: 100%;overflow: auto;}#sk-container-id-1 input.sk-toggleable__control:checked~label.sk-toggleable__label-arrow:before {content: \"▾\";}#sk-container-id-1 div.sk-estimator input.sk-toggleable__control:checked~label.sk-toggleable__label {background-color: #d4ebff;}#sk-container-id-1 div.sk-label input.sk-toggleable__control:checked~label.sk-toggleable__label {background-color: #d4ebff;}#sk-container-id-1 input.sk-hidden--visually {border: 0;clip: rect(1px 1px 1px 1px);clip: rect(1px, 1px, 1px, 1px);height: 1px;margin: -1px;overflow: hidden;padding: 0;position: absolute;width: 1px;}#sk-container-id-1 div.sk-estimator {font-family: monospace;background-color: #f0f8ff;border: 1px dotted black;border-radius: 0.25em;box-sizing: border-box;margin-bottom: 0.5em;}#sk-container-id-1 div.sk-estimator:hover {background-color: #d4ebff;}#sk-container-id-1 div.sk-parallel-item::after {content: \"\";width: 100%;border-bottom: 1px solid gray;flex-grow: 1;}#sk-container-id-1 div.sk-label:hover label.sk-toggleable__label {background-color: #d4ebff;}#sk-container-id-1 div.sk-serial::before {content: \"\";position: absolute;border-left: 1px solid gray;box-sizing: border-box;top: 0;bottom: 0;left: 50%;z-index: 0;}#sk-container-id-1 div.sk-serial {display: flex;flex-direction: column;align-items: center;background-color: white;padding-right: 0.2em;padding-left: 0.2em;position: relative;}#sk-container-id-1 div.sk-item {position: relative;z-index: 1;}#sk-container-id-1 div.sk-parallel {display: flex;align-items: stretch;justify-content: center;background-color: white;position: relative;}#sk-container-id-1 div.sk-item::before, #sk-container-id-1 div.sk-parallel-item::before {content: \"\";position: absolute;border-left: 1px solid gray;box-sizing: border-box;top: 0;bottom: 0;left: 50%;z-index: -1;}#sk-container-id-1 div.sk-parallel-item {display: flex;flex-direction: column;z-index: 1;position: relative;background-color: white;}#sk-container-id-1 div.sk-parallel-item:first-child::after {align-self: flex-end;width: 50%;}#sk-container-id-1 div.sk-parallel-item:last-child::after {align-self: flex-start;width: 50%;}#sk-container-id-1 div.sk-parallel-item:only-child::after {width: 0;}#sk-container-id-1 div.sk-dashed-wrapped {border: 1px dashed gray;margin: 0 0.4em 0.5em 0.4em;box-sizing: border-box;padding-bottom: 0.4em;background-color: white;}#sk-container-id-1 div.sk-label label {font-family: monospace;font-weight: bold;display: inline-block;line-height: 1.2em;}#sk-container-id-1 div.sk-label-container {text-align: center;}#sk-container-id-1 div.sk-container {/* jupyter's `normalize.less` sets `[hidden] { display: none; }` but bootstrap.min.css set `[hidden] { display: none !important; }` so we also need the `!important` here to be able to override the default hidden behavior on the sphinx rendered scikit-learn.org. See: https://github.com/scikit-learn/scikit-learn/issues/21755 */display: inline-block !important;position: relative;}#sk-container-id-1 div.sk-text-repr-fallback {display: none;}</style><div id=\"sk-container-id-1\" class=\"sk-top-container\"><div class=\"sk-text-repr-fallback\"><pre>RandomForestClassifier(n_estimators=20, random_state=42)</pre><b>In a Jupyter environment, please rerun this cell to show the HTML representation or trust the notebook. <br />On GitHub, the HTML representation is unable to render, please try loading this page with nbviewer.org.</b></div><div class=\"sk-container\" hidden><div class=\"sk-item\"><div class=\"sk-estimator sk-toggleable\"><input class=\"sk-toggleable__control sk-hidden--visually\" id=\"sk-estimator-id-1\" type=\"checkbox\" checked><label for=\"sk-estimator-id-1\" class=\"sk-toggleable__label sk-toggleable__label-arrow\">RandomForestClassifier</label><div class=\"sk-toggleable__content\"><pre>RandomForestClassifier(n_estimators=20, random_state=42)</pre></div></div></div></div></div>"
      ],
      "text/plain": [
       "RandomForestClassifier(n_estimators=20, random_state=42)"
      ]
     },
     "execution_count": 20,
     "metadata": {},
     "output_type": "execute_result"
    }
   ],
   "source": [
    "randomForest = RandomForestClassifier(n_estimators=20, random_state=42)\n",
    "randomForest.fit(X_train, y_train)"
   ]
  },
  {
   "cell_type": "code",
   "execution_count": 21,
   "id": "20464994",
   "metadata": {},
   "outputs": [
    {
     "data": {
      "text/plain": [
       "0.9547225581082897"
      ]
     },
     "execution_count": 21,
     "metadata": {},
     "output_type": "execute_result"
    }
   ],
   "source": [
    "randomForest.score(X_test, y_test)"
   ]
  },
  {
   "cell_type": "code",
   "execution_count": 22,
   "id": "edd241ba",
   "metadata": {},
   "outputs": [],
   "source": [
    "y_pred = randomForest.predict(X_test)"
   ]
  },
  {
   "cell_type": "markdown",
   "id": "0ac344dd",
   "metadata": {},
   "source": [
    "### Confusion Matrix"
   ]
  },
  {
   "cell_type": "code",
   "execution_count": 23,
   "id": "39c843cf",
   "metadata": {},
   "outputs": [
    {
     "data": {
      "text/plain": [
       "array([[5920,    0,    3,    2,   13],\n",
       "       [   0, 5907,    6,    1,    3],\n",
       "       [   1,    0, 5964,    8,    2],\n",
       "       [  21,    7,   17, 5709,  239],\n",
       "       [ 248,   58,  108,  611, 4924]], dtype=int64)"
      ]
     },
     "execution_count": 23,
     "metadata": {},
     "output_type": "execute_result"
    }
   ],
   "source": [
    "cm = confusion_matrix(y_test, y_pred, labels=[1, 2, 3, 4, 5])\n",
    "cm"
   ]
  },
  {
   "cell_type": "code",
   "execution_count": 24,
   "id": "e9ca231a",
   "metadata": {},
   "outputs": [
    {
     "data": {
      "image/png": "[encoded data removed]",
      "text/plain": [
       "<Figure size 720x504 with 2 Axes>"
      ]
     },
     "metadata": {
      "needs_background": "light"
     },
     "output_type": "display_data"
    }
   ],
   "source": [
    "%matplotlib inline\n",
    "\n",
    "plt.figure(figsize=(10,7))\n",
    "ax = plt.subplot()\n",
    "sns.heatmap(cm, annot=True, fmt='g', ax=ax)\n",
    "# labels, title and ticks\n",
    "ax.set_xlabel('Predicted labels');ax.set_ylabel('Actual labels'); \n",
    "ax.set_title('Confusion Matrix'); \n",
    "ax.xaxis.set_ticklabels([1, 2, 3, 4, 5]); ax.yaxis.set_ticklabels([1, 2, 3, 4, 5]);\n",
    "plt.show()"
   ]
  },
  {
   "cell_type": "markdown",
   "id": "f19b1759",
   "metadata": {},
   "source": [
    "###  f1 score, precision and recall "
   ]
  },
  {
   "cell_type": "code",
   "execution_count": 25,
   "id": "164e00d8",
   "metadata": {},
   "outputs": [
    {
     "name": "stdout",
     "output_type": "stream",
     "text": [
      "Precision: 0.955\n",
      "Recall: 0.955\n",
      "F1 Score: 0.955\n",
      "Accuracy: 0.955\n"
     ]
    }
   ],
   "source": [
    "print('Precision: %.3f' % precision_score(y_test, y_pred, average='micro'))\n",
    "print('Recall: %.3f' % recall_score(y_test, y_pred, average='micro'))\n",
    "print('F1 Score: %.3f' % f1_score(y_test, y_pred, average='micro'))\n",
    "print('Accuracy: %.3f' % accuracy_score(y_test, y_pred))"
   ]
  }
 ],
 "metadata": {
  "kernelspec": {
   "display_name": "Python 3 (ipykernel)",
   "language": "python",
   "name": "python3"
  },
  "language_info": {
   "codemirror_mode": {
    "name": "ipython",
    "version": 3
   },
   "file_extension": ".py",
   "mimetype": "text/x-python",
   "name": "python",
   "nbconvert_exporter": "python",
   "pygments_lexer": "ipython3",
   "version": "3.10.4"
  }
 },
 "nbformat": 4,
 "nbformat_minor": 5
}
